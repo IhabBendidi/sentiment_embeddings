{
  "nbformat": 4,
  "nbformat_minor": 0,
  "metadata": {
    "colab": {
      "name": "Copy of Untitled0.ipynb",
      "provenance": [],
      "authorship_tag": "ABX9TyPGy6iigSaquuo/pt2P6FDe",
      "include_colab_link": true
    },
    "kernelspec": {
      "name": "python3",
      "display_name": "Python 3"
    }
  },
  "cells": [
    {
      "cell_type": "markdown",
      "metadata": {
        "id": "view-in-github",
        "colab_type": "text"
      },
      "source": [
        "<a href=\"https://colab.research.google.com/github/IhabBendidi/sentiment_embeddings/blob/main/lstm_sentiment.ipynb\" target=\"_parent\"><img src=\"https://colab.research.google.com/assets/colab-badge.svg\" alt=\"Open In Colab\"/></a>"
      ]
    },
    {
      "cell_type": "code",
      "metadata": {
        "colab": {
          "base_uri": "https://localhost:8080/"
        },
        "id": "Lfo1Nd3ENCyN",
        "outputId": "c1629340-7dcc-4cc3-db7c-8cfd77f0ba18"
      },
      "source": [
        "pip install scikit-learn tensorflow==2.3 pandas numpy keras keras-metrics"
      ],
      "execution_count": 18,
      "outputs": [
        {
          "output_type": "stream",
          "text": [
            "Requirement already satisfied: scikit-learn in /usr/local/lib/python3.6/dist-packages (0.22.2.post1)\n",
            "Requirement already satisfied: tensorflow==2.3 in /usr/local/lib/python3.6/dist-packages (2.3.0)\n",
            "Requirement already satisfied: pandas in /usr/local/lib/python3.6/dist-packages (1.1.4)\n",
            "Requirement already satisfied: numpy in /usr/local/lib/python3.6/dist-packages (1.18.5)\n",
            "Requirement already satisfied: keras in /usr/local/lib/python3.6/dist-packages (2.4.3)\n",
            "Collecting keras-metrics\n",
            "  Downloading https://files.pythonhosted.org/packages/32/c9/a87420da8e73de944e63a8e9cdcfb1f03ca31a7c4cdcdbd45d2cdf13275a/keras_metrics-1.1.0-py2.py3-none-any.whl\n",
            "Requirement already satisfied: scipy>=0.17.0 in /usr/local/lib/python3.6/dist-packages (from scikit-learn) (1.4.1)\n",
            "Requirement already satisfied: joblib>=0.11 in /usr/local/lib/python3.6/dist-packages (from scikit-learn) (0.17.0)\n",
            "Requirement already satisfied: absl-py>=0.7.0 in /usr/local/lib/python3.6/dist-packages (from tensorflow==2.3) (0.10.0)\n",
            "Requirement already satisfied: grpcio>=1.8.6 in /usr/local/lib/python3.6/dist-packages (from tensorflow==2.3) (1.33.2)\n",
            "Requirement already satisfied: opt-einsum>=2.3.2 in /usr/local/lib/python3.6/dist-packages (from tensorflow==2.3) (3.3.0)\n",
            "Requirement already satisfied: protobuf>=3.9.2 in /usr/local/lib/python3.6/dist-packages (from tensorflow==2.3) (3.12.4)\n",
            "Requirement already satisfied: h5py<2.11.0,>=2.10.0 in /usr/local/lib/python3.6/dist-packages (from tensorflow==2.3) (2.10.0)\n",
            "Requirement already satisfied: wheel>=0.26 in /usr/local/lib/python3.6/dist-packages (from tensorflow==2.3) (0.35.1)\n",
            "Requirement already satisfied: astunparse==1.6.3 in /usr/local/lib/python3.6/dist-packages (from tensorflow==2.3) (1.6.3)\n",
            "Requirement already satisfied: keras-preprocessing<1.2,>=1.1.1 in /usr/local/lib/python3.6/dist-packages (from tensorflow==2.3) (1.1.2)\n",
            "Requirement already satisfied: tensorflow-estimator<2.4.0,>=2.3.0 in /usr/local/lib/python3.6/dist-packages (from tensorflow==2.3) (2.3.0)\n",
            "Requirement already satisfied: google-pasta>=0.1.8 in /usr/local/lib/python3.6/dist-packages (from tensorflow==2.3) (0.2.0)\n",
            "Requirement already satisfied: termcolor>=1.1.0 in /usr/local/lib/python3.6/dist-packages (from tensorflow==2.3) (1.1.0)\n",
            "Requirement already satisfied: gast==0.3.3 in /usr/local/lib/python3.6/dist-packages (from tensorflow==2.3) (0.3.3)\n",
            "Requirement already satisfied: six>=1.12.0 in /usr/local/lib/python3.6/dist-packages (from tensorflow==2.3) (1.15.0)\n",
            "Requirement already satisfied: wrapt>=1.11.1 in /usr/local/lib/python3.6/dist-packages (from tensorflow==2.3) (1.12.1)\n",
            "Requirement already satisfied: tensorboard<3,>=2.3.0 in /usr/local/lib/python3.6/dist-packages (from tensorflow==2.3) (2.3.0)\n",
            "Requirement already satisfied: pytz>=2017.2 in /usr/local/lib/python3.6/dist-packages (from pandas) (2018.9)\n",
            "Requirement already satisfied: python-dateutil>=2.7.3 in /usr/local/lib/python3.6/dist-packages (from pandas) (2.8.1)\n",
            "Requirement already satisfied: pyyaml in /usr/local/lib/python3.6/dist-packages (from keras) (3.13)\n",
            "Requirement already satisfied: setuptools in /usr/local/lib/python3.6/dist-packages (from protobuf>=3.9.2->tensorflow==2.3) (50.3.2)\n",
            "Requirement already satisfied: requests<3,>=2.21.0 in /usr/local/lib/python3.6/dist-packages (from tensorboard<3,>=2.3.0->tensorflow==2.3) (2.23.0)\n",
            "Requirement already satisfied: tensorboard-plugin-wit>=1.6.0 in /usr/local/lib/python3.6/dist-packages (from tensorboard<3,>=2.3.0->tensorflow==2.3) (1.7.0)\n",
            "Requirement already satisfied: werkzeug>=0.11.15 in /usr/local/lib/python3.6/dist-packages (from tensorboard<3,>=2.3.0->tensorflow==2.3) (1.0.1)\n",
            "Requirement already satisfied: google-auth<2,>=1.6.3 in /usr/local/lib/python3.6/dist-packages (from tensorboard<3,>=2.3.0->tensorflow==2.3) (1.17.2)\n",
            "Requirement already satisfied: markdown>=2.6.8 in /usr/local/lib/python3.6/dist-packages (from tensorboard<3,>=2.3.0->tensorflow==2.3) (3.3.3)\n",
            "Requirement already satisfied: google-auth-oauthlib<0.5,>=0.4.1 in /usr/local/lib/python3.6/dist-packages (from tensorboard<3,>=2.3.0->tensorflow==2.3) (0.4.2)\n",
            "Requirement already satisfied: chardet<4,>=3.0.2 in /usr/local/lib/python3.6/dist-packages (from requests<3,>=2.21.0->tensorboard<3,>=2.3.0->tensorflow==2.3) (3.0.4)\n",
            "Requirement already satisfied: urllib3!=1.25.0,!=1.25.1,<1.26,>=1.21.1 in /usr/local/lib/python3.6/dist-packages (from requests<3,>=2.21.0->tensorboard<3,>=2.3.0->tensorflow==2.3) (1.24.3)\n",
            "Requirement already satisfied: idna<3,>=2.5 in /usr/local/lib/python3.6/dist-packages (from requests<3,>=2.21.0->tensorboard<3,>=2.3.0->tensorflow==2.3) (2.10)\n",
            "Requirement already satisfied: certifi>=2017.4.17 in /usr/local/lib/python3.6/dist-packages (from requests<3,>=2.21.0->tensorboard<3,>=2.3.0->tensorflow==2.3) (2020.11.8)\n",
            "Requirement already satisfied: pyasn1-modules>=0.2.1 in /usr/local/lib/python3.6/dist-packages (from google-auth<2,>=1.6.3->tensorboard<3,>=2.3.0->tensorflow==2.3) (0.2.8)\n",
            "Requirement already satisfied: cachetools<5.0,>=2.0.0 in /usr/local/lib/python3.6/dist-packages (from google-auth<2,>=1.6.3->tensorboard<3,>=2.3.0->tensorflow==2.3) (4.1.1)\n",
            "Requirement already satisfied: rsa<5,>=3.1.4; python_version >= \"3\" in /usr/local/lib/python3.6/dist-packages (from google-auth<2,>=1.6.3->tensorboard<3,>=2.3.0->tensorflow==2.3) (4.6)\n",
            "Requirement already satisfied: importlib-metadata; python_version < \"3.8\" in /usr/local/lib/python3.6/dist-packages (from markdown>=2.6.8->tensorboard<3,>=2.3.0->tensorflow==2.3) (2.0.0)\n",
            "Requirement already satisfied: requests-oauthlib>=0.7.0 in /usr/local/lib/python3.6/dist-packages (from google-auth-oauthlib<0.5,>=0.4.1->tensorboard<3,>=2.3.0->tensorflow==2.3) (1.3.0)\n",
            "Requirement already satisfied: pyasn1<0.5.0,>=0.4.6 in /usr/local/lib/python3.6/dist-packages (from pyasn1-modules>=0.2.1->google-auth<2,>=1.6.3->tensorboard<3,>=2.3.0->tensorflow==2.3) (0.4.8)\n",
            "Requirement already satisfied: zipp>=0.5 in /usr/local/lib/python3.6/dist-packages (from importlib-metadata; python_version < \"3.8\"->markdown>=2.6.8->tensorboard<3,>=2.3.0->tensorflow==2.3) (3.4.0)\n",
            "Requirement already satisfied: oauthlib>=3.0.0 in /usr/local/lib/python3.6/dist-packages (from requests-oauthlib>=0.7.0->google-auth-oauthlib<0.5,>=0.4.1->tensorboard<3,>=2.3.0->tensorflow==2.3) (3.1.0)\n",
            "Installing collected packages: keras-metrics\n",
            "Successfully installed keras-metrics-1.1.0\n"
          ],
          "name": "stdout"
        }
      ]
    },
    {
      "cell_type": "code",
      "metadata": {
        "id": "lbgjMy-qPKun"
      },
      "source": [
        "#https://datascience.stackexchange.com/questions/15135/train-test-validation-set-splitting-in-sklearn\n",
        "#https://www.analyticsvidhya.com/blog/2019/11/comprehensive-guide-attention-mechanism-deep-learning/\n",
        "#https://towardsdatascience.com/categorical-encoding-using-label-encoding-and-one-hot-encoder-911ef77fb5bd \n",
        "#https://www.kaggle.com/ngyptr/lstm-sentiment-analysis-keras\n",
        "#https://towardsdatascience.com/twitter-sentiment-analysis-nlp-text-analytics-b7b296d71fce \n",
        "#https://github.com/pjwebdev/Basic-Data-Science-Projects/blob/master/8-Twitter-Sentiment-Analysis/Tweeter%20Sentiment%20Analysis.ipynb\n",
        "\n",
        "import random\n",
        "import numpy as np\n",
        "import pandas as pd\n",
        "import re\n",
        "from sklearn.feature_extraction.text import CountVectorizer\n",
        "from keras.preprocessing.text import Tokenizer\n",
        "from sklearn.preprocessing import OneHotEncoder, LabelEncoder\n",
        "from keras.preprocessing.sequence import pad_sequences\n",
        "from keras.models import Sequential\n",
        "from keras.layers import Dense, Embedding, LSTM, SpatialDropout1D\n",
        "from keras.optimizers import Adam\n",
        "from sklearn.model_selection import train_test_split\n",
        "from keras.utils.np_utils import to_categorical\n",
        "import re\n",
        "from pylab import rcParams\n",
        "from keras import backend as K\n",
        "import seaborn as sns\n",
        "\n",
        "RANDOM_SEED = 42\n",
        "np.random.seed(RANDOM_SEED)\n",
        "import warnings\n",
        "warnings.filterwarnings('ignore')\n",
        "\n",
        "%matplotlib inline\n",
        "%config InlineBackend.figure_format='retina'\n",
        "\n",
        "sns.set(style='whitegrid', palette='muted', font_scale=1.2)\n",
        "\n",
        "HAPPY_COLORS_PALETTE = [\"#01BEFE\", \"#FFDD00\", \"#FF7D00\", \"#FF006D\", \"#ADFF02\", \"#8F00FF\"]\n",
        "\n",
        "sns.set_palette(sns.color_palette(HAPPY_COLORS_PALETTE))\n",
        "\n",
        "rcParams['figure.figsize'] = 12, 8"
      ],
      "execution_count": 1,
      "outputs": []
    },
    {
      "cell_type": "code",
      "metadata": {
        "id": "OxIiC6zbVqQ4"
      },
      "source": [
        "# Nettoyer le caca, les signes, la ponctuation, ajouter les autres variables, augmenter la taille des features.\n",
        "# Read the csv file with panda\n",
        "df = pd.read_csv('/content/Tweets.csv')\n",
        "\n",
        "# Select the text column in order to create your features\n",
        "#features_words = df['text']\n",
        "\n",
        "# Select the airline_sentiment column as the targets\n",
        "#target = df['airline_sentiment']\n",
        "# Get dummies values of the three classes, meaning one 3 dimensional vector of interger values for each line\n",
        "#target = pd.get_dummies(df['airline_sentiment']).values"
      ],
      "execution_count": 2,
      "outputs": []
    },
    {
      "cell_type": "code",
      "metadata": {
        "colab": {
          "base_uri": "https://localhost:8080/"
        },
        "id": "9Qkq7LCcVzD_",
        "outputId": "c6b9d0a5-986c-48df-a719-9fe9ca62e3b4"
      },
      "source": [
        "print(df.head(5))"
      ],
      "execution_count": 4,
      "outputs": [
        {
          "output_type": "stream",
          "text": [
            "             tweet_id  ...               user_timezone\n",
            "0  570306133677760513  ...  Eastern Time (US & Canada)\n",
            "1  570301130888122368  ...  Pacific Time (US & Canada)\n",
            "2  570301083672813571  ...  Central Time (US & Canada)\n",
            "3  570301031407624196  ...  Pacific Time (US & Canada)\n",
            "4  570300817074462722  ...  Pacific Time (US & Canada)\n",
            "\n",
            "[5 rows x 15 columns]\n"
          ],
          "name": "stdout"
        }
      ]
    },
    {
      "cell_type": "code",
      "metadata": {
        "id": "wfEMaAhKT9Ro"
      },
      "source": [
        "\n",
        "# importing the interesting & pertinent data in our dataset into a new dataframe\n",
        "tweets = df[['tweet_id','text','airline_sentiment','airline_sentiment_confidence']]\n",
        "tweets.head()\n",
        "# The count of null or nan values in the dataset\n",
        "tweets.isnull().sum()\n",
        "# Unique values in a Series of the dataframe\n",
        "tweets['airline_sentiment'].unique()\n",
        "# This helper function returns the tags appearing mostly at the beginning of each tweet\n",
        "def get_tags(row):\n",
        "    splits = row['text'].split(' ')\n",
        "    # Some simple text processing to have all tags in the same format ???????\n",
        "    row['tags'] = ''.join(e for e in splits[0] if e.isalnum()).lower()   \n",
        "    # Correcting a very common typo\n",
        "    if row['tags'] == 'jetblue':\n",
        "        row['tags'] = 'jetblues'\n",
        "    return row\n",
        "\n",
        "# Extracting the tags (without deletion) from the tweets into their own columns\n",
        "df = tweets.apply(get_tags,axis=1)"
      ],
      "execution_count": 5,
      "outputs": []
    },
    {
      "cell_type": "code",
      "metadata": {
        "id": "L-bZgsTfXEj4"
      },
      "source": [
        "# Defining a helper function to count the occurences of each category of sentiment for each tag\n",
        "def count_tags(df, col, new_col):\n",
        "    df[new_col] = df[col].count()\n",
        "    return df\n",
        "\n",
        "# Grouping all tags and sentiment categories together, in order to count occurences of categories \n",
        "# of sentiments for each category, then saving the resulting Series into our DataFrame\n",
        "df['tag_count'] = df.groupby(['tags','airline_sentiment']).apply(count_tags,'tweet_id','count')['count']"
      ],
      "execution_count": 6,
      "outputs": []
    },
    {
      "cell_type": "code",
      "metadata": {
        "id": "iTH-ym8sUDyg"
      },
      "source": [
        "temp_df = df[df['tag_count']>15].copy()"
      ],
      "execution_count": 8,
      "outputs": []
    },
    {
      "cell_type": "code",
      "metadata": {
        "colab": {
          "base_uri": "https://localhost:8080/",
          "height": 547
        },
        "id": "utTqFSiXUfXk",
        "outputId": "3024d172-ac0a-4c59-b987-60cce0f21aaf"
      },
      "source": [
        "# Create a cross table of the count of the occurences of tags/sentiment classes\n",
        "cross_df = pd.crosstab(temp_df.tags,temp_df.airline_sentiment,values=temp_df['tag_count'],\n",
        "                       margins=False,aggfunc='mean')\n",
        "\n",
        "# Visualize our results in a bar plot\n",
        "cross_df.plot.bar(figsize=(15,7),grid=True)"
      ],
      "execution_count": 9,
      "outputs": [
        {
          "output_type": "execute_result",
          "data": {
            "text/plain": [
              "<matplotlib.axes._subplots.AxesSubplot at 0x7fd5d98e06d8>"
            ]
          },
          "metadata": {
            "tags": []
          },
          "execution_count": 9
        },
        {
          "output_type": "display_data",
          "data": {
            "image/png": "[encoded data removed]",
            "text/plain": [
              "<Figure size 1080x504 with 1 Axes>"
            ]
          },
          "metadata": {
            "tags": [],
            "image/png": {
              "width": 894,
              "height": 513
            },
            "needs_background": "light"
          }
        }
      ]
    },
    {
      "cell_type": "code",
      "metadata": {
        "colab": {
          "base_uri": "https://localhost:8080/"
        },
        "id": "txoHtrYLXRri",
        "outputId": "9d4210b8-f3ab-4eef-d7b3-b16ae215555f"
      },
      "source": [
        "pip install seaborn"
      ],
      "execution_count": 13,
      "outputs": [
        {
          "output_type": "stream",
          "text": [
            "Requirement already satisfied: seaborn in /usr/local/lib/python3.6/dist-packages (0.11.0)\n",
            "Requirement already satisfied: matplotlib>=2.2 in /usr/local/lib/python3.6/dist-packages (from seaborn) (3.2.2)\n",
            "Requirement already satisfied: scipy>=1.0 in /usr/local/lib/python3.6/dist-packages (from seaborn) (1.4.1)\n",
            "Requirement already satisfied: numpy>=1.15 in /usr/local/lib/python3.6/dist-packages (from seaborn) (1.18.5)\n",
            "Requirement already satisfied: pandas>=0.23 in /usr/local/lib/python3.6/dist-packages (from seaborn) (1.1.4)\n",
            "Requirement already satisfied: python-dateutil>=2.1 in /usr/local/lib/python3.6/dist-packages (from matplotlib>=2.2->seaborn) (2.8.1)\n",
            "Requirement already satisfied: cycler>=0.10 in /usr/local/lib/python3.6/dist-packages (from matplotlib>=2.2->seaborn) (0.10.0)\n",
            "Requirement already satisfied: pyparsing!=2.0.4,!=2.1.2,!=2.1.6,>=2.0.1 in /usr/local/lib/python3.6/dist-packages (from matplotlib>=2.2->seaborn) (2.4.7)\n",
            "Requirement already satisfied: kiwisolver>=1.0.1 in /usr/local/lib/python3.6/dist-packages (from matplotlib>=2.2->seaborn) (1.3.1)\n",
            "Requirement already satisfied: pytz>=2017.2 in /usr/local/lib/python3.6/dist-packages (from pandas>=0.23->seaborn) (2018.9)\n",
            "Requirement already satisfied: six>=1.5 in /usr/local/lib/python3.6/dist-packages (from python-dateutil>=2.1->matplotlib>=2.2->seaborn) (1.15.0)\n"
          ],
          "name": "stdout"
        }
      ]
    },
    {
      "cell_type": "code",
      "metadata": {
        "colab": {
          "base_uri": "https://localhost:8080/",
          "height": 206
        },
        "id": "ufqBzUPJUk4g",
        "outputId": "b99d61de-0001-4b8e-bfed-ffdc8bed3a45"
      },
      "source": [
        "# A helper function that would remove the tags from the text and save it into a new column\n",
        "def remove_tags(row):\n",
        "    splits = row['text'].split(' ')\n",
        "    row['review'] = ' '.join(splits[1:])\n",
        "    return row\n",
        "\n",
        "# Removing the tags from the text and saving the cleaned up text in a new column\n",
        "tweets = df.apply(remove_tags,axis=1)[['tweet_id','text','review','airline_sentiment']]\n",
        "\n",
        "tweets.head()"
      ],
      "execution_count": 10,
      "outputs": [
        {
          "output_type": "execute_result",
          "data": {
            "text/html": [
              "<div>\n",
              "<style scoped>\n",
              "    .dataframe tbody tr th:only-of-type {\n",
              "        vertical-align: middle;\n",
              "    }\n",
              "\n",
              "    .dataframe tbody tr th {\n",
              "        vertical-align: top;\n",
              "    }\n",
              "\n",
              "    .dataframe thead th {\n",
              "        text-align: right;\n",
              "    }\n",
              "</style>\n",
              "<table border=\"1\" class=\"dataframe\">\n",
              "  <thead>\n",
              "    <tr style=\"text-align: right;\">\n",
              "      <th></th>\n",
              "      <th>tweet_id</th>\n",
              "      <th>text</th>\n",
              "      <th>review</th>\n",
              "      <th>airline_sentiment</th>\n",
              "    </tr>\n",
              "  </thead>\n",
              "  <tbody>\n",
              "    <tr>\n",
              "      <th>0</th>\n",
              "      <td>570306133677760513</td>\n",
              "      <td>@VirginAmerica What @dhepburn said.</td>\n",
              "      <td>What @dhepburn said.</td>\n",
              "      <td>neutral</td>\n",
              "    </tr>\n",
              "    <tr>\n",
              "      <th>1</th>\n",
              "      <td>570301130888122368</td>\n",
              "      <td>@VirginAmerica plus you've added commercials t...</td>\n",
              "      <td>plus you've added commercials to the experienc...</td>\n",
              "      <td>positive</td>\n",
              "    </tr>\n",
              "    <tr>\n",
              "      <th>2</th>\n",
              "      <td>570301083672813571</td>\n",
              "      <td>@VirginAmerica I didn't today... Must mean I n...</td>\n",
              "      <td>I didn't today... Must mean I need to take ano...</td>\n",
              "      <td>neutral</td>\n",
              "    </tr>\n",
              "    <tr>\n",
              "      <th>3</th>\n",
              "      <td>570301031407624196</td>\n",
              "      <td>@VirginAmerica it's really aggressive to blast...</td>\n",
              "      <td>it's really aggressive to blast obnoxious \"ent...</td>\n",
              "      <td>negative</td>\n",
              "    </tr>\n",
              "    <tr>\n",
              "      <th>4</th>\n",
              "      <td>570300817074462722</td>\n",
              "      <td>@VirginAmerica and it's a really big bad thing...</td>\n",
              "      <td>and it's a really big bad thing about it</td>\n",
              "      <td>negative</td>\n",
              "    </tr>\n",
              "  </tbody>\n",
              "</table>\n",
              "</div>"
            ],
            "text/plain": [
              "             tweet_id  ... airline_sentiment\n",
              "0  570306133677760513  ...           neutral\n",
              "1  570301130888122368  ...          positive\n",
              "2  570301083672813571  ...           neutral\n",
              "3  570301031407624196  ...          negative\n",
              "4  570300817074462722  ...          negative\n",
              "\n",
              "[5 rows x 4 columns]"
            ]
          },
          "metadata": {
            "tags": []
          },
          "execution_count": 10
        }
      ]
    },
    {
      "cell_type": "code",
      "metadata": {
        "colab": {
          "base_uri": "https://localhost:8080/",
          "height": 276
        },
        "id": "QUfDxpJXUoVV",
        "outputId": "21c456ae-d8c8-468e-9549-729fc564f89d"
      },
      "source": [
        "# Define a helper function for one hot encoding\n",
        "def one_hot_encode(row):\n",
        "    if row['airline_sentiment'] == \"negative\":\n",
        "        row['target'] = 0\n",
        "    if row['airline_sentiment'] == \"neutral\":\n",
        "        row['target'] = 1\n",
        "    if row['airline_sentiment'] == \"positive\":\n",
        "        row['target'] = 2\n",
        "    return row\n",
        "\n",
        "# The class names : 0 -> negative, 1 -> neutral, 2 -> positive\n",
        "class_names = ['negative', 'neutral', 'positive']\n",
        "\n",
        "# One hot encode the labels of our dataset\n",
        "tweets = tweets.apply(one_hot_encode,axis=1)[['review','target','tweet_id','text','airline_sentiment']]\n",
        "\n",
        "tweets.head()"
      ],
      "execution_count": 11,
      "outputs": [
        {
          "output_type": "execute_result",
          "data": {
            "text/html": [
              "<div>\n",
              "<style scoped>\n",
              "    .dataframe tbody tr th:only-of-type {\n",
              "        vertical-align: middle;\n",
              "    }\n",
              "\n",
              "    .dataframe tbody tr th {\n",
              "        vertical-align: top;\n",
              "    }\n",
              "\n",
              "    .dataframe thead th {\n",
              "        text-align: right;\n",
              "    }\n",
              "</style>\n",
              "<table border=\"1\" class=\"dataframe\">\n",
              "  <thead>\n",
              "    <tr style=\"text-align: right;\">\n",
              "      <th></th>\n",
              "      <th>review</th>\n",
              "      <th>target</th>\n",
              "      <th>tweet_id</th>\n",
              "      <th>text</th>\n",
              "      <th>airline_sentiment</th>\n",
              "    </tr>\n",
              "  </thead>\n",
              "  <tbody>\n",
              "    <tr>\n",
              "      <th>0</th>\n",
              "      <td>What @dhepburn said.</td>\n",
              "      <td>1</td>\n",
              "      <td>570306133677760513</td>\n",
              "      <td>@VirginAmerica What @dhepburn said.</td>\n",
              "      <td>neutral</td>\n",
              "    </tr>\n",
              "    <tr>\n",
              "      <th>1</th>\n",
              "      <td>plus you've added commercials to the experienc...</td>\n",
              "      <td>2</td>\n",
              "      <td>570301130888122368</td>\n",
              "      <td>@VirginAmerica plus you've added commercials t...</td>\n",
              "      <td>positive</td>\n",
              "    </tr>\n",
              "    <tr>\n",
              "      <th>2</th>\n",
              "      <td>I didn't today... Must mean I need to take ano...</td>\n",
              "      <td>1</td>\n",
              "      <td>570301083672813571</td>\n",
              "      <td>@VirginAmerica I didn't today... Must mean I n...</td>\n",
              "      <td>neutral</td>\n",
              "    </tr>\n",
              "    <tr>\n",
              "      <th>3</th>\n",
              "      <td>it's really aggressive to blast obnoxious \"ent...</td>\n",
              "      <td>0</td>\n",
              "      <td>570301031407624196</td>\n",
              "      <td>@VirginAmerica it's really aggressive to blast...</td>\n",
              "      <td>negative</td>\n",
              "    </tr>\n",
              "    <tr>\n",
              "      <th>4</th>\n",
              "      <td>and it's a really big bad thing about it</td>\n",
              "      <td>0</td>\n",
              "      <td>570300817074462722</td>\n",
              "      <td>@VirginAmerica and it's a really big bad thing...</td>\n",
              "      <td>negative</td>\n",
              "    </tr>\n",
              "  </tbody>\n",
              "</table>\n",
              "</div>"
            ],
            "text/plain": [
              "                                              review  ...  airline_sentiment\n",
              "0                               What @dhepburn said.  ...            neutral\n",
              "1  plus you've added commercials to the experienc...  ...           positive\n",
              "2  I didn't today... Must mean I need to take ano...  ...            neutral\n",
              "3  it's really aggressive to blast obnoxious \"ent...  ...           negative\n",
              "4           and it's a really big bad thing about it  ...           negative\n",
              "\n",
              "[5 rows x 5 columns]"
            ]
          },
          "metadata": {
            "tags": []
          },
          "execution_count": 11
        }
      ]
    },
    {
      "cell_type": "code",
      "metadata": {
        "id": "V5dMKikEX2pL"
      },
      "source": [
        "features_words = tweets['review']\n",
        "# Select the airline_sentiment column as the targets\n",
        "#target = tweets['airline_sentiment']\n",
        "\n",
        "# Get dummies values of the three classes, meaning one 3 dimensional vector of interger values for each line\n",
        "target = pd.get_dummies(df['airline_sentiment']).values"
      ],
      "execution_count": 13,
      "outputs": []
    },
    {
      "cell_type": "code",
      "metadata": {
        "colab": {
          "base_uri": "https://localhost:8080/"
        },
        "id": "i-6rxEUNbPv5",
        "outputId": "2effc869-447a-45d2-d6ff-8308bcd8b2e2"
      },
      "source": [
        "print(target)"
      ],
      "execution_count": 15,
      "outputs": [
        {
          "output_type": "stream",
          "text": [
            "[[0 1 0]\n",
            " [0 0 1]\n",
            " [0 1 0]\n",
            " ...\n",
            " [0 1 0]\n",
            " [1 0 0]\n",
            " [0 1 0]]\n"
          ],
          "name": "stdout"
        }
      ]
    },
    {
      "cell_type": "code",
      "metadata": {
        "id": "SqY2VLzYUvdf"
      },
      "source": [
        "# Max features determine the max number of words in the entire dataset you will consider relevant\n",
        "max_features = 500\n",
        "# Create a tokenizer object and pass the max features to it\n",
        "tokenizer = Tokenizer(num_words=max_features, split=' ')\n",
        "# Call the tokenizer method fit_on_texts and fit the values of your features to it\n",
        "tokenizer.fit_on_texts(features_words.values)\n",
        "# Convert each line of text to sequences of integer values where each value correspond to one of the 100 max features\n",
        "X = tokenizer.texts_to_sequences(features_words.values)\n",
        "# Pad sequences is needed to homogenize the size of each line vector (if 100 max_features, then each line vector will be converted to 25dim vectors, blank or no words\n",
        "# will be filled with zero value\n",
        "X = pad_sequences(X)\n",
        "\n",
        "# Split your dataset between train and test\n",
        "X_train, X_test, Y_train, Y_test = train_test_split(X,target, test_size = 0.33, random_state=42)"
      ],
      "execution_count": 16,
      "outputs": []
    },
    {
      "cell_type": "code",
      "metadata": {
        "id": "yM5FrEVyY9Zf"
      },
      "source": [
        "#X_train, X_test = np.expand_dims(X_train, axis=0), np.expand_dims(X_test, axis=0)"
      ],
      "execution_count": 30,
      "outputs": []
    },
    {
      "cell_type": "code",
      "metadata": {
        "colab": {
          "base_uri": "https://localhost:8080/"
        },
        "id": "8gg0WDadU2js",
        "outputId": "b47d801c-3a7a-42ca-ebb8-4852ae10cc14"
      },
      "source": [
        "# Number of neurons for each of the two layers of the LSTM\n",
        "embed_dim = 50\n",
        "lstm_out = 70\n",
        "# Use adam optimizer with\n",
        "opt = Adam(learning_rate=0.00001)\n",
        "#Instantiate a sequential model\n",
        "model = Sequential()\n",
        "# Create a first embedding layer and add it to the model in which you will pass the max_features arguments, the embed_dimension\n",
        "# corresponding to the number of neurons for the first layer and the second dim of your features vector\n",
        "model.add(Embedding(max_features, embed_dim,input_length=X.shape[1]))\n",
        "model.add(SpatialDropout1D(0.2))\n",
        "model.add(LSTM(lstm_out, dropout=0.2, recurrent_dropout=0.2))\n",
        "\n",
        "# Create a last dense layer with 3 units corresponding to a prediction of a degree of confidence for each class\n",
        "model.add(Dense(3,activation='softmax'))\n",
        "# Compile your model with categorical cross_entropy\n",
        "model.compile(loss = 'categorical_crossentropy', optimizer=opt,metrics = ['accuracy', 'val_accuracy'])\n",
        "print(model.summary())\n",
        "# Determine a batch size and fit your model\n",
        "batch_size = 16\n",
        "model.fit(X_train, Y_train, epochs=150, batch_size=batch_size, verbose = 2)"
      ],
      "execution_count": 17,
      "outputs": [
        {
          "output_type": "stream",
          "text": [
            "Model: \"sequential\"\n",
            "_________________________________________________________________\n",
            "Layer (type)                 Output Shape              Param #   \n",
            "=================================================================\n",
            "embedding (Embedding)        (None, 29, 50)            25000     \n",
            "_________________________________________________________________\n",
            "spatial_dropout1d (SpatialDr (None, 29, 50)            0         \n",
            "_________________________________________________________________\n",
            "lstm (LSTM)                  (None, 70)                33880     \n",
            "_________________________________________________________________\n",
            "dense (Dense)                (None, 3)                 213       \n",
            "=================================================================\n",
            "Total params: 59,093\n",
            "Trainable params: 59,093\n",
            "Non-trainable params: 0\n",
            "_________________________________________________________________\n",
            "None\n",
            "Epoch 1/150\n",
            "613/613 - 16s - loss: 1.0807 - accuracy: 0.5848\n",
            "Epoch 2/150\n",
            "613/613 - 16s - loss: 0.9683 - accuracy: 0.6212\n",
            "Epoch 3/150\n",
            "613/613 - 16s - loss: 0.9065 - accuracy: 0.6212\n",
            "Epoch 4/150\n",
            "613/613 - 16s - loss: 0.8727 - accuracy: 0.6212\n",
            "Epoch 5/150\n",
            "613/613 - 16s - loss: 0.8496 - accuracy: 0.6221\n",
            "Epoch 6/150\n",
            "613/613 - 16s - loss: 0.8382 - accuracy: 0.6226\n",
            "Epoch 7/150\n",
            "613/613 - 16s - loss: 0.8313 - accuracy: 0.6248\n",
            "Epoch 8/150\n",
            "613/613 - 16s - loss: 0.8249 - accuracy: 0.6261\n",
            "Epoch 9/150\n",
            "613/613 - 17s - loss: 0.8203 - accuracy: 0.6278\n",
            "Epoch 10/150\n",
            "613/613 - 17s - loss: 0.8106 - accuracy: 0.6301\n",
            "Epoch 11/150\n",
            "613/613 - 16s - loss: 0.8045 - accuracy: 0.6354\n",
            "Epoch 12/150\n",
            "613/613 - 16s - loss: 0.7966 - accuracy: 0.6352\n",
            "Epoch 13/150\n",
            "613/613 - 16s - loss: 0.7919 - accuracy: 0.6405\n",
            "Epoch 14/150\n",
            "613/613 - 16s - loss: 0.7838 - accuracy: 0.6422\n",
            "Epoch 15/150\n",
            "613/613 - 16s - loss: 0.7780 - accuracy: 0.6442\n",
            "Epoch 16/150\n",
            "613/613 - 16s - loss: 0.7700 - accuracy: 0.6460\n",
            "Epoch 17/150\n",
            "613/613 - 16s - loss: 0.7633 - accuracy: 0.6511\n",
            "Epoch 18/150\n",
            "613/613 - 16s - loss: 0.7602 - accuracy: 0.6547\n",
            "Epoch 19/150\n",
            "613/613 - 16s - loss: 0.7497 - accuracy: 0.6563\n",
            "Epoch 20/150\n",
            "613/613 - 16s - loss: 0.7468 - accuracy: 0.6584\n",
            "Epoch 21/150\n",
            "613/613 - 16s - loss: 0.7403 - accuracy: 0.6600\n",
            "Epoch 22/150\n",
            "613/613 - 16s - loss: 0.7341 - accuracy: 0.6651\n",
            "Epoch 23/150\n",
            "613/613 - 16s - loss: 0.7268 - accuracy: 0.6653\n",
            "Epoch 24/150\n",
            "613/613 - 16s - loss: 0.7202 - accuracy: 0.6681\n",
            "Epoch 25/150\n",
            "613/613 - 16s - loss: 0.7148 - accuracy: 0.6737\n",
            "Epoch 26/150\n",
            "613/613 - 16s - loss: 0.7073 - accuracy: 0.6742\n",
            "Epoch 27/150\n",
            "613/613 - 16s - loss: 0.7043 - accuracy: 0.6775\n",
            "Epoch 28/150\n",
            "613/613 - 16s - loss: 0.7010 - accuracy: 0.6778\n",
            "Epoch 29/150\n",
            "613/613 - 17s - loss: 0.6967 - accuracy: 0.6798\n",
            "Epoch 30/150\n",
            "613/613 - 16s - loss: 0.6902 - accuracy: 0.6805\n",
            "Epoch 31/150\n",
            "613/613 - 16s - loss: 0.6882 - accuracy: 0.6848\n",
            "Epoch 32/150\n",
            "613/613 - 16s - loss: 0.6837 - accuracy: 0.6843\n",
            "Epoch 33/150\n",
            "613/613 - 16s - loss: 0.6772 - accuracy: 0.6879\n",
            "Epoch 34/150\n",
            "613/613 - 16s - loss: 0.6762 - accuracy: 0.6893\n",
            "Epoch 35/150\n",
            "613/613 - 16s - loss: 0.6732 - accuracy: 0.6910\n",
            "Epoch 36/150\n",
            "613/613 - 16s - loss: 0.6666 - accuracy: 0.6903\n",
            "Epoch 37/150\n",
            "613/613 - 16s - loss: 0.6648 - accuracy: 0.6929\n",
            "Epoch 38/150\n",
            "613/613 - 16s - loss: 0.6623 - accuracy: 0.6927\n",
            "Epoch 39/150\n",
            "613/613 - 16s - loss: 0.6600 - accuracy: 0.6968\n",
            "Epoch 40/150\n",
            "613/613 - 16s - loss: 0.6573 - accuracy: 0.6956\n",
            "Epoch 41/150\n",
            "613/613 - 16s - loss: 0.6552 - accuracy: 0.6972\n",
            "Epoch 42/150\n",
            "613/613 - 16s - loss: 0.6516 - accuracy: 0.6985\n",
            "Epoch 43/150\n",
            "613/613 - 16s - loss: 0.6480 - accuracy: 0.7017\n",
            "Epoch 44/150\n",
            "613/613 - 16s - loss: 0.6473 - accuracy: 0.7075\n",
            "Epoch 45/150\n",
            "613/613 - 16s - loss: 0.6461 - accuracy: 0.7059\n",
            "Epoch 46/150\n",
            "613/613 - 16s - loss: 0.6398 - accuracy: 0.7108\n",
            "Epoch 47/150\n",
            "613/613 - 16s - loss: 0.6395 - accuracy: 0.7167\n",
            "Epoch 48/150\n",
            "613/613 - 16s - loss: 0.6395 - accuracy: 0.7183\n",
            "Epoch 49/150\n",
            "613/613 - 17s - loss: 0.6367 - accuracy: 0.7178\n",
            "Epoch 50/150\n",
            "613/613 - 16s - loss: 0.6343 - accuracy: 0.7252\n",
            "Epoch 51/150\n",
            "613/613 - 16s - loss: 0.6299 - accuracy: 0.7284\n",
            "Epoch 52/150\n",
            "613/613 - 16s - loss: 0.6299 - accuracy: 0.7289\n",
            "Epoch 53/150\n",
            "613/613 - 16s - loss: 0.6292 - accuracy: 0.7282\n",
            "Epoch 54/150\n",
            "613/613 - 16s - loss: 0.6265 - accuracy: 0.7351\n",
            "Epoch 55/150\n",
            "613/613 - 16s - loss: 0.6238 - accuracy: 0.7369\n",
            "Epoch 56/150\n",
            "613/613 - 16s - loss: 0.6201 - accuracy: 0.7377\n",
            "Epoch 57/150\n",
            "613/613 - 16s - loss: 0.6208 - accuracy: 0.7391\n",
            "Epoch 58/150\n",
            "613/613 - 16s - loss: 0.6182 - accuracy: 0.7425\n",
            "Epoch 59/150\n",
            "613/613 - 16s - loss: 0.6130 - accuracy: 0.7439\n",
            "Epoch 60/150\n",
            "613/613 - 16s - loss: 0.6149 - accuracy: 0.7482\n",
            "Epoch 61/150\n",
            "613/613 - 16s - loss: 0.6113 - accuracy: 0.7467\n",
            "Epoch 62/150\n",
            "613/613 - 16s - loss: 0.6118 - accuracy: 0.7496\n",
            "Epoch 63/150\n",
            "613/613 - 17s - loss: 0.6084 - accuracy: 0.7510\n",
            "Epoch 64/150\n",
            "613/613 - 16s - loss: 0.6054 - accuracy: 0.7550\n",
            "Epoch 65/150\n",
            "613/613 - 16s - loss: 0.6070 - accuracy: 0.7563\n",
            "Epoch 66/150\n",
            "613/613 - 16s - loss: 0.6004 - accuracy: 0.7573\n",
            "Epoch 67/150\n",
            "613/613 - 16s - loss: 0.6037 - accuracy: 0.7555\n",
            "Epoch 68/150\n",
            "613/613 - 17s - loss: 0.6024 - accuracy: 0.7555\n",
            "Epoch 69/150\n",
            "613/613 - 17s - loss: 0.5968 - accuracy: 0.7579\n",
            "Epoch 70/150\n",
            "613/613 - 16s - loss: 0.5978 - accuracy: 0.7570\n",
            "Epoch 71/150\n",
            "613/613 - 16s - loss: 0.5961 - accuracy: 0.7601\n",
            "Epoch 72/150\n",
            "613/613 - 16s - loss: 0.5905 - accuracy: 0.7587\n",
            "Epoch 73/150\n",
            "613/613 - 16s - loss: 0.5931 - accuracy: 0.7598\n",
            "Epoch 74/150\n",
            "613/613 - 16s - loss: 0.5900 - accuracy: 0.7613\n",
            "Epoch 75/150\n",
            "613/613 - 16s - loss: 0.5835 - accuracy: 0.7647\n",
            "Epoch 76/150\n",
            "613/613 - 16s - loss: 0.5861 - accuracy: 0.7650\n",
            "Epoch 77/150\n",
            "613/613 - 16s - loss: 0.5848 - accuracy: 0.7640\n",
            "Epoch 78/150\n",
            "613/613 - 16s - loss: 0.5833 - accuracy: 0.7647\n",
            "Epoch 79/150\n",
            "613/613 - 16s - loss: 0.5798 - accuracy: 0.7644\n",
            "Epoch 80/150\n",
            "613/613 - 16s - loss: 0.5804 - accuracy: 0.7676\n",
            "Epoch 81/150\n",
            "613/613 - 16s - loss: 0.5803 - accuracy: 0.7638\n",
            "Epoch 82/150\n",
            "613/613 - 16s - loss: 0.5731 - accuracy: 0.7679\n",
            "Epoch 83/150\n",
            "613/613 - 16s - loss: 0.5749 - accuracy: 0.7636\n",
            "Epoch 84/150\n",
            "613/613 - 16s - loss: 0.5749 - accuracy: 0.7686\n",
            "Epoch 85/150\n",
            "613/613 - 16s - loss: 0.5714 - accuracy: 0.7671\n",
            "Epoch 86/150\n",
            "613/613 - 16s - loss: 0.5712 - accuracy: 0.7703\n",
            "Epoch 87/150\n",
            "613/613 - 16s - loss: 0.5702 - accuracy: 0.7707\n",
            "Epoch 88/150\n",
            "613/613 - 17s - loss: 0.5681 - accuracy: 0.7723\n",
            "Epoch 89/150\n",
            "613/613 - 17s - loss: 0.5685 - accuracy: 0.7718\n",
            "Epoch 90/150\n",
            "613/613 - 16s - loss: 0.5646 - accuracy: 0.7733\n",
            "Epoch 91/150\n",
            "613/613 - 16s - loss: 0.5666 - accuracy: 0.7722\n",
            "Epoch 92/150\n",
            "613/613 - 16s - loss: 0.5633 - accuracy: 0.7723\n",
            "Epoch 93/150\n",
            "613/613 - 16s - loss: 0.5600 - accuracy: 0.7746\n",
            "Epoch 94/150\n",
            "613/613 - 16s - loss: 0.5591 - accuracy: 0.7719\n",
            "Epoch 95/150\n",
            "613/613 - 16s - loss: 0.5597 - accuracy: 0.7757\n",
            "Epoch 96/150\n",
            "613/613 - 16s - loss: 0.5553 - accuracy: 0.7743\n",
            "Epoch 97/150\n",
            "613/613 - 16s - loss: 0.5570 - accuracy: 0.7739\n",
            "Epoch 98/150\n",
            "613/613 - 16s - loss: 0.5559 - accuracy: 0.7749\n",
            "Epoch 99/150\n",
            "613/613 - 16s - loss: 0.5538 - accuracy: 0.7759\n",
            "Epoch 100/150\n",
            "613/613 - 16s - loss: 0.5495 - accuracy: 0.7742\n",
            "Epoch 101/150\n",
            "613/613 - 17s - loss: 0.5485 - accuracy: 0.7795\n",
            "Epoch 102/150\n",
            "613/613 - 16s - loss: 0.5475 - accuracy: 0.7777\n",
            "Epoch 103/150\n",
            "613/613 - 16s - loss: 0.5494 - accuracy: 0.7788\n",
            "Epoch 104/150\n",
            "613/613 - 16s - loss: 0.5441 - accuracy: 0.7781\n",
            "Epoch 105/150\n",
            "613/613 - 16s - loss: 0.5441 - accuracy: 0.7820\n",
            "Epoch 106/150\n",
            "613/613 - 16s - loss: 0.5423 - accuracy: 0.7805\n",
            "Epoch 107/150\n",
            "613/613 - 16s - loss: 0.5403 - accuracy: 0.7820\n",
            "Epoch 108/150\n",
            "613/613 - 17s - loss: 0.5378 - accuracy: 0.7812\n",
            "Epoch 109/150\n",
            "613/613 - 17s - loss: 0.5408 - accuracy: 0.7813\n",
            "Epoch 110/150\n",
            "613/613 - 16s - loss: 0.5393 - accuracy: 0.7838\n",
            "Epoch 111/150\n",
            "613/613 - 16s - loss: 0.5404 - accuracy: 0.7837\n",
            "Epoch 112/150\n",
            "613/613 - 16s - loss: 0.5365 - accuracy: 0.7836\n",
            "Epoch 113/150\n",
            "613/613 - 16s - loss: 0.5355 - accuracy: 0.7813\n",
            "Epoch 114/150\n",
            "613/613 - 16s - loss: 0.5330 - accuracy: 0.7837\n",
            "Epoch 115/150\n",
            "613/613 - 16s - loss: 0.5347 - accuracy: 0.7854\n",
            "Epoch 116/150\n",
            "613/613 - 16s - loss: 0.5325 - accuracy: 0.7831\n",
            "Epoch 117/150\n",
            "613/613 - 16s - loss: 0.5318 - accuracy: 0.7865\n",
            "Epoch 118/150\n",
            "613/613 - 16s - loss: 0.5311 - accuracy: 0.7855\n",
            "Epoch 119/150\n",
            "613/613 - 16s - loss: 0.5322 - accuracy: 0.7820\n",
            "Epoch 120/150\n",
            "613/613 - 16s - loss: 0.5314 - accuracy: 0.7859\n",
            "Epoch 121/150\n",
            "613/613 - 16s - loss: 0.5285 - accuracy: 0.7836\n",
            "Epoch 122/150\n",
            "613/613 - 16s - loss: 0.5268 - accuracy: 0.7864\n",
            "Epoch 123/150\n",
            "613/613 - 16s - loss: 0.5245 - accuracy: 0.7865\n",
            "Epoch 124/150\n",
            "613/613 - 16s - loss: 0.5247 - accuracy: 0.7847\n",
            "Epoch 125/150\n",
            "613/613 - 16s - loss: 0.5245 - accuracy: 0.7854\n",
            "Epoch 126/150\n",
            "613/613 - 16s - loss: 0.5239 - accuracy: 0.7902\n",
            "Epoch 127/150\n",
            "613/613 - 16s - loss: 0.5245 - accuracy: 0.7886\n",
            "Epoch 128/150\n",
            "613/613 - 17s - loss: 0.5236 - accuracy: 0.7890\n",
            "Epoch 129/150\n",
            "613/613 - 16s - loss: 0.5176 - accuracy: 0.7889\n",
            "Epoch 130/150\n",
            "613/613 - 16s - loss: 0.5198 - accuracy: 0.7884\n",
            "Epoch 131/150\n",
            "613/613 - 16s - loss: 0.5172 - accuracy: 0.7888\n",
            "Epoch 132/150\n",
            "613/613 - 16s - loss: 0.5148 - accuracy: 0.7888\n",
            "Epoch 133/150\n",
            "613/613 - 16s - loss: 0.5180 - accuracy: 0.7866\n",
            "Epoch 134/150\n",
            "613/613 - 16s - loss: 0.5185 - accuracy: 0.7899\n",
            "Epoch 135/150\n",
            "613/613 - 16s - loss: 0.5136 - accuracy: 0.7929\n",
            "Epoch 136/150\n",
            "613/613 - 16s - loss: 0.5163 - accuracy: 0.7900\n",
            "Epoch 137/150\n",
            "613/613 - 16s - loss: 0.5132 - accuracy: 0.7923\n",
            "Epoch 138/150\n",
            "613/613 - 17s - loss: 0.5115 - accuracy: 0.7903\n",
            "Epoch 139/150\n",
            "613/613 - 16s - loss: 0.5104 - accuracy: 0.7914\n",
            "Epoch 140/150\n",
            "613/613 - 16s - loss: 0.5116 - accuracy: 0.7922\n",
            "Epoch 141/150\n",
            "613/613 - 16s - loss: 0.5121 - accuracy: 0.7900\n",
            "Epoch 142/150\n",
            "613/613 - 16s - loss: 0.5129 - accuracy: 0.7966\n",
            "Epoch 143/150\n",
            "613/613 - 16s - loss: 0.5130 - accuracy: 0.7918\n",
            "Epoch 144/150\n",
            "613/613 - 16s - loss: 0.5078 - accuracy: 0.7936\n",
            "Epoch 145/150\n",
            "613/613 - 16s - loss: 0.5103 - accuracy: 0.7933\n",
            "Epoch 146/150\n",
            "613/613 - 16s - loss: 0.5073 - accuracy: 0.7931\n",
            "Epoch 147/150\n",
            "613/613 - 17s - loss: 0.5070 - accuracy: 0.7942\n",
            "Epoch 148/150\n",
            "613/613 - 17s - loss: 0.5088 - accuracy: 0.7964\n",
            "Epoch 149/150\n",
            "613/613 - 16s - loss: 0.5042 - accuracy: 0.7950\n",
            "Epoch 150/150\n",
            "613/613 - 16s - loss: 0.5088 - accuracy: 0.7900\n"
          ],
          "name": "stdout"
        },
        {
          "output_type": "execute_result",
          "data": {
            "text/plain": [
              "<tensorflow.python.keras.callbacks.History at 0x7fd5db3c54e0>"
            ]
          },
          "metadata": {
            "tags": []
          },
          "execution_count": 17
        }
      ]
    },
    {
      "cell_type": "code",
      "metadata": {
        "id": "GmI0fynCPPHE"
      },
      "source": [
        "RANDOM_SEED = 42\n",
        "np.random.seed(RANDOM_SEED)"
      ],
      "execution_count": null,
      "outputs": []
    },
    {
      "cell_type": "code",
      "metadata": {
        "colab": {
          "base_uri": "https://localhost:8080/"
        },
        "id": "1VtfEaOpPTCR",
        "outputId": "9c7e3933-8341-4b72-81ae-62d4d62acfc8"
      },
      "source": [
        "# Nettoyer le caca, les signes, la ponctuation, ajouter les autres variables, augmenter la taille des features.\n",
        "# Read the csv file with panda\n",
        "text = pd.read_csv('/content/Tweets.csv')\n",
        "\n",
        "# Select the text column in order to create your features\n",
        "features_words = text['text']\n",
        "\n",
        "# Select the airline_sentiment column as the targets\n",
        "target = text['airline_sentiment']\n",
        "# Get dummies values of the three classes, meaning one 3 dimensional vector of interger values for each line\n",
        "target = pd.get_dummies(text['airline_sentiment']).values\n",
        "\n",
        "# Max features determine the max number of words in the entire dataset you will consider relevant\n",
        "max_fatures = 100\n",
        "# Create a tokenizer object and pass the max features to it\n",
        "tokenizer = Tokenizer(num_words=max_fatures, split=' ')\n",
        "# Call the tokenizer method fit_on_texts and fit the values of your features to it\n",
        "tokenizer.fit_on_texts(features_words.values)\n",
        "# Convert each line of text to sequences of integer values where each value correspond to one of the 100 max features\n",
        "X = tokenizer.texts_to_sequences(features_words.values)\n",
        "# Pad sequences is needed to homogenize the size of each line vector (if 100 max_features, then each line vector will be converted to 25dim vectors, blank or no words\n",
        "# will be filled with zero value\n",
        "X = pad_sequences(X)\n",
        "\n",
        "# Split your dataset between train and test\n",
        "X_train, X_test, Y_train, Y_test = train_test_split(X,target, test_size = 0.33, random_state=RANDOM_SEED)\n",
        "\n",
        "# !!!! PROBLEM WITH TEST/TRAIN/VALID !!!! #\n",
        "df_temp, df_test = train_test_split(tweets, test_size=0.2, random_state=RANDOM_SEED)\n",
        "\n",
        "# Splitting the training and validation data\n",
        "df_train, df_val = train_test_split(df_temp, test_size=0.1, random_state=RANDOM_SEED)\n",
        "\n",
        "# Print your dataset shape\n",
        "print(X_train.shape,Y_train.shape)\n",
        "print(X_test.shape,Y_test.shape)\n"
      ],
      "execution_count": null,
      "outputs": [
        {
          "output_type": "stream",
          "text": [
            "(9808, 25) (9808, 3)\n",
            "(4832, 25) (4832, 3)\n"
          ],
          "name": "stdout"
        }
      ]
    },
    {
      "cell_type": "code",
      "metadata": {
        "id": "QOiZfXHvl6Vy"
      },
      "source": [
        "import keras_metrics as km\n",
        "# Calculate precision for the second label.\n",
        "precision = km.binary_precision(label=1)\n",
        "from keras_metrics import recall, f1_score, false_negative, false_positive\n",
        "\n",
        "# Calculate recall for the first label.\n",
        "\n",
        "\n",
        "my_callbacks = [\n",
        "    tf.keras.callbacks.EarlyStopping(patience=2),\n",
        "    tf.keras.callbacks.ModelCheckpoint(filepath='/content/model.{epoch:02d}-{val_loss:.2f}.h5'),\n",
        "    tf.keras.callbacks.TensorBoard(log_dir='/content/logs'),\n",
        "    recall, f1_score, false_negative, false_positive,\n",
        "]\n",
        "\n",
        "callbacks=my_callbacks\n",
        "\n"
      ],
      "execution_count": null,
      "outputs": []
    },
    {
      "cell_type": "code",
      "metadata": {
        "colab": {
          "base_uri": "https://localhost:8080/",
          "height": 744
        },
        "id": "ggXdVxtUPY4S",
        "outputId": "77c2aba9-0ee9-4950-bd88-644d52e89db7"
      },
      "source": [
        "# Number of neurons for each of the two layers of the LSTM\n",
        "embed_dim = 50\n",
        "lstm_out = 70\n",
        "# Use adam optimizer with\n",
        "opt = Adam(learning_rate=0.00005)\n",
        "#Instantiate a sequential model\n",
        "model = Sequential()\n",
        "# Create a first embedding layer and add it to the model in which you will pass the max_features arguments, the embed_dimension\n",
        "# corresponding to the number of neurons for the first layer and the second dim of your features vector\n",
        "model.add(Embedding(max_fatures, embed_dim,input_length=X.shape[1]))\n",
        "model.add(SpatialDropout1D(0.2))\n",
        "model.add(LSTM(lstm_out, dropout=0.2, recurrent_dropout=0.2))\n",
        "\n",
        "# Create a last dense layer with 3 units corresponding to a prediction of a degree of confidence for each class\n",
        "model.add(Dense(3,activation='softmax'))\n",
        "# Compile your model with categorical cross_entropy\n",
        "model.compile(loss = 'categorical_crossentropy', optimizer=opt, metrics = ['accuracy'])\n",
        "print(model.summary())\n",
        "# Determine a batch size and fit your model\n",
        "batch_size = 10\n",
        "model.fit(X_train, Y_train, epochs=150, batch_size=batch_size, verbose = 2, callbacks=my_callbacks)"
      ],
      "execution_count": null,
      "outputs": [
        {
          "output_type": "stream",
          "text": [
            "Model: \"sequential_1\"\n",
            "_________________________________________________________________\n",
            "Layer (type)                 Output Shape              Param #   \n",
            "=================================================================\n",
            "embedding (Embedding)        (None, 25, 50)            5000      \n",
            "_________________________________________________________________\n",
            "spatial_dropout1d (SpatialDr (None, 25, 50)            0         \n",
            "_________________________________________________________________\n",
            "lstm (LSTM)                  (None, 70)                33880     \n",
            "_________________________________________________________________\n",
            "dense (Dense)                (None, 3)                 213       \n",
            "=================================================================\n",
            "Total params: 39,093\n",
            "Trainable params: 39,093\n",
            "Non-trainable params: 0\n",
            "_________________________________________________________________\n",
            "None\n",
            "Epoch 1/150\n",
            "981/981 - 30s - loss: 0.9350 - accuracy: 0.6179\n",
            "Epoch 2/150\n",
            "981/981 - 30s - loss: 0.8344 - accuracy: 0.6249\n",
            "Epoch 3/150\n"
          ],
          "name": "stdout"
        },
        {
          "output_type": "error",
          "ename": "KeyboardInterrupt",
          "evalue": "ignored",
          "traceback": [
            "\u001b[0;31m---------------------------------------------------------------------------\u001b[0m",
            "\u001b[0;31mKeyboardInterrupt\u001b[0m                         Traceback (most recent call last)",
            "\u001b[0;32m<ipython-input-8-d2fefd849680>\u001b[0m in \u001b[0;36m<module>\u001b[0;34m()\u001b[0m\n\u001b[1;32m     19\u001b[0m \u001b[0;31m# Determine a batch size and fit your model\u001b[0m\u001b[0;34m\u001b[0m\u001b[0;34m\u001b[0m\u001b[0;34m\u001b[0m\u001b[0m\n\u001b[1;32m     20\u001b[0m \u001b[0mbatch_size\u001b[0m \u001b[0;34m=\u001b[0m \u001b[0;36m10\u001b[0m\u001b[0;34m\u001b[0m\u001b[0;34m\u001b[0m\u001b[0m\n\u001b[0;32m---> 21\u001b[0;31m \u001b[0mmodel\u001b[0m\u001b[0;34m.\u001b[0m\u001b[0mfit\u001b[0m\u001b[0;34m(\u001b[0m\u001b[0mX_train\u001b[0m\u001b[0;34m,\u001b[0m \u001b[0mY_train\u001b[0m\u001b[0;34m,\u001b[0m \u001b[0mepochs\u001b[0m\u001b[0;34m=\u001b[0m\u001b[0;36m150\u001b[0m\u001b[0;34m,\u001b[0m \u001b[0mbatch_size\u001b[0m\u001b[0;34m=\u001b[0m\u001b[0mbatch_size\u001b[0m\u001b[0;34m,\u001b[0m \u001b[0mverbose\u001b[0m \u001b[0;34m=\u001b[0m \u001b[0;36m2\u001b[0m\u001b[0;34m)\u001b[0m\u001b[0;34m\u001b[0m\u001b[0;34m\u001b[0m\u001b[0m\n\u001b[0m",
            "\u001b[0;32m/usr/local/lib/python3.6/dist-packages/tensorflow/python/keras/engine/training.py\u001b[0m in \u001b[0;36m_method_wrapper\u001b[0;34m(self, *args, **kwargs)\u001b[0m\n\u001b[1;32m    106\u001b[0m   \u001b[0;32mdef\u001b[0m \u001b[0m_method_wrapper\u001b[0m\u001b[0;34m(\u001b[0m\u001b[0mself\u001b[0m\u001b[0;34m,\u001b[0m \u001b[0;34m*\u001b[0m\u001b[0margs\u001b[0m\u001b[0;34m,\u001b[0m \u001b[0;34m**\u001b[0m\u001b[0mkwargs\u001b[0m\u001b[0;34m)\u001b[0m\u001b[0;34m:\u001b[0m\u001b[0;34m\u001b[0m\u001b[0;34m\u001b[0m\u001b[0m\n\u001b[1;32m    107\u001b[0m     \u001b[0;32mif\u001b[0m \u001b[0;32mnot\u001b[0m \u001b[0mself\u001b[0m\u001b[0;34m.\u001b[0m\u001b[0m_in_multi_worker_mode\u001b[0m\u001b[0;34m(\u001b[0m\u001b[0;34m)\u001b[0m\u001b[0;34m:\u001b[0m  \u001b[0;31m# pylint: disable=protected-access\u001b[0m\u001b[0;34m\u001b[0m\u001b[0;34m\u001b[0m\u001b[0m\n\u001b[0;32m--> 108\u001b[0;31m       \u001b[0;32mreturn\u001b[0m \u001b[0mmethod\u001b[0m\u001b[0;34m(\u001b[0m\u001b[0mself\u001b[0m\u001b[0;34m,\u001b[0m \u001b[0;34m*\u001b[0m\u001b[0margs\u001b[0m\u001b[0;34m,\u001b[0m \u001b[0;34m**\u001b[0m\u001b[0mkwargs\u001b[0m\u001b[0;34m)\u001b[0m\u001b[0;34m\u001b[0m\u001b[0;34m\u001b[0m\u001b[0m\n\u001b[0m\u001b[1;32m    109\u001b[0m \u001b[0;34m\u001b[0m\u001b[0m\n\u001b[1;32m    110\u001b[0m     \u001b[0;31m# Running inside `run_distribute_coordinator` already.\u001b[0m\u001b[0;34m\u001b[0m\u001b[0;34m\u001b[0m\u001b[0;34m\u001b[0m\u001b[0m\n",
            "\u001b[0;32m/usr/local/lib/python3.6/dist-packages/tensorflow/python/keras/engine/training.py\u001b[0m in \u001b[0;36mfit\u001b[0;34m(self, x, y, batch_size, epochs, verbose, callbacks, validation_split, validation_data, shuffle, class_weight, sample_weight, initial_epoch, steps_per_epoch, validation_steps, validation_batch_size, validation_freq, max_queue_size, workers, use_multiprocessing)\u001b[0m\n\u001b[1;32m   1096\u001b[0m                 batch_size=batch_size):\n\u001b[1;32m   1097\u001b[0m               \u001b[0mcallbacks\u001b[0m\u001b[0;34m.\u001b[0m\u001b[0mon_train_batch_begin\u001b[0m\u001b[0;34m(\u001b[0m\u001b[0mstep\u001b[0m\u001b[0;34m)\u001b[0m\u001b[0;34m\u001b[0m\u001b[0;34m\u001b[0m\u001b[0m\n\u001b[0;32m-> 1098\u001b[0;31m               \u001b[0mtmp_logs\u001b[0m \u001b[0;34m=\u001b[0m \u001b[0mtrain_function\u001b[0m\u001b[0;34m(\u001b[0m\u001b[0miterator\u001b[0m\u001b[0;34m)\u001b[0m\u001b[0;34m\u001b[0m\u001b[0;34m\u001b[0m\u001b[0m\n\u001b[0m\u001b[1;32m   1099\u001b[0m               \u001b[0;32mif\u001b[0m \u001b[0mdata_handler\u001b[0m\u001b[0;34m.\u001b[0m\u001b[0mshould_sync\u001b[0m\u001b[0;34m:\u001b[0m\u001b[0;34m\u001b[0m\u001b[0;34m\u001b[0m\u001b[0m\n\u001b[1;32m   1100\u001b[0m                 \u001b[0mcontext\u001b[0m\u001b[0;34m.\u001b[0m\u001b[0masync_wait\u001b[0m\u001b[0;34m(\u001b[0m\u001b[0;34m)\u001b[0m\u001b[0;34m\u001b[0m\u001b[0;34m\u001b[0m\u001b[0m\n",
            "\u001b[0;32m/usr/local/lib/python3.6/dist-packages/tensorflow/python/eager/def_function.py\u001b[0m in \u001b[0;36m__call__\u001b[0;34m(self, *args, **kwds)\u001b[0m\n\u001b[1;32m    778\u001b[0m       \u001b[0;32melse\u001b[0m\u001b[0;34m:\u001b[0m\u001b[0;34m\u001b[0m\u001b[0;34m\u001b[0m\u001b[0m\n\u001b[1;32m    779\u001b[0m         \u001b[0mcompiler\u001b[0m \u001b[0;34m=\u001b[0m \u001b[0;34m\"nonXla\"\u001b[0m\u001b[0;34m\u001b[0m\u001b[0;34m\u001b[0m\u001b[0m\n\u001b[0;32m--> 780\u001b[0;31m         \u001b[0mresult\u001b[0m \u001b[0;34m=\u001b[0m \u001b[0mself\u001b[0m\u001b[0;34m.\u001b[0m\u001b[0m_call\u001b[0m\u001b[0;34m(\u001b[0m\u001b[0;34m*\u001b[0m\u001b[0margs\u001b[0m\u001b[0;34m,\u001b[0m \u001b[0;34m**\u001b[0m\u001b[0mkwds\u001b[0m\u001b[0;34m)\u001b[0m\u001b[0;34m\u001b[0m\u001b[0;34m\u001b[0m\u001b[0m\n\u001b[0m\u001b[1;32m    781\u001b[0m \u001b[0;34m\u001b[0m\u001b[0m\n\u001b[1;32m    782\u001b[0m       \u001b[0mnew_tracing_count\u001b[0m \u001b[0;34m=\u001b[0m \u001b[0mself\u001b[0m\u001b[0;34m.\u001b[0m\u001b[0m_get_tracing_count\u001b[0m\u001b[0;34m(\u001b[0m\u001b[0;34m)\u001b[0m\u001b[0;34m\u001b[0m\u001b[0;34m\u001b[0m\u001b[0m\n",
            "\u001b[0;32m/usr/local/lib/python3.6/dist-packages/tensorflow/python/eager/def_function.py\u001b[0m in \u001b[0;36m_call\u001b[0;34m(self, *args, **kwds)\u001b[0m\n\u001b[1;32m    805\u001b[0m       \u001b[0;31m# In this case we have created variables on the first call, so we run the\u001b[0m\u001b[0;34m\u001b[0m\u001b[0;34m\u001b[0m\u001b[0;34m\u001b[0m\u001b[0m\n\u001b[1;32m    806\u001b[0m       \u001b[0;31m# defunned version which is guaranteed to never create variables.\u001b[0m\u001b[0;34m\u001b[0m\u001b[0;34m\u001b[0m\u001b[0;34m\u001b[0m\u001b[0m\n\u001b[0;32m--> 807\u001b[0;31m       \u001b[0;32mreturn\u001b[0m \u001b[0mself\u001b[0m\u001b[0;34m.\u001b[0m\u001b[0m_stateless_fn\u001b[0m\u001b[0;34m(\u001b[0m\u001b[0;34m*\u001b[0m\u001b[0margs\u001b[0m\u001b[0;34m,\u001b[0m \u001b[0;34m**\u001b[0m\u001b[0mkwds\u001b[0m\u001b[0;34m)\u001b[0m  \u001b[0;31m# pylint: disable=not-callable\u001b[0m\u001b[0;34m\u001b[0m\u001b[0;34m\u001b[0m\u001b[0m\n\u001b[0m\u001b[1;32m    808\u001b[0m     \u001b[0;32melif\u001b[0m \u001b[0mself\u001b[0m\u001b[0;34m.\u001b[0m\u001b[0m_stateful_fn\u001b[0m \u001b[0;32mis\u001b[0m \u001b[0;32mnot\u001b[0m \u001b[0;32mNone\u001b[0m\u001b[0;34m:\u001b[0m\u001b[0;34m\u001b[0m\u001b[0;34m\u001b[0m\u001b[0m\n\u001b[1;32m    809\u001b[0m       \u001b[0;31m# Release the lock early so that multiple threads can perform the call\u001b[0m\u001b[0;34m\u001b[0m\u001b[0;34m\u001b[0m\u001b[0;34m\u001b[0m\u001b[0m\n",
            "\u001b[0;32m/usr/local/lib/python3.6/dist-packages/tensorflow/python/eager/function.py\u001b[0m in \u001b[0;36m__call__\u001b[0;34m(self, *args, **kwargs)\u001b[0m\n\u001b[1;32m   2827\u001b[0m     \u001b[0;32mwith\u001b[0m \u001b[0mself\u001b[0m\u001b[0;34m.\u001b[0m\u001b[0m_lock\u001b[0m\u001b[0;34m:\u001b[0m\u001b[0;34m\u001b[0m\u001b[0;34m\u001b[0m\u001b[0m\n\u001b[1;32m   2828\u001b[0m       \u001b[0mgraph_function\u001b[0m\u001b[0;34m,\u001b[0m \u001b[0margs\u001b[0m\u001b[0;34m,\u001b[0m \u001b[0mkwargs\u001b[0m \u001b[0;34m=\u001b[0m \u001b[0mself\u001b[0m\u001b[0;34m.\u001b[0m\u001b[0m_maybe_define_function\u001b[0m\u001b[0;34m(\u001b[0m\u001b[0margs\u001b[0m\u001b[0;34m,\u001b[0m \u001b[0mkwargs\u001b[0m\u001b[0;34m)\u001b[0m\u001b[0;34m\u001b[0m\u001b[0;34m\u001b[0m\u001b[0m\n\u001b[0;32m-> 2829\u001b[0;31m     \u001b[0;32mreturn\u001b[0m \u001b[0mgraph_function\u001b[0m\u001b[0;34m.\u001b[0m\u001b[0m_filtered_call\u001b[0m\u001b[0;34m(\u001b[0m\u001b[0margs\u001b[0m\u001b[0;34m,\u001b[0m \u001b[0mkwargs\u001b[0m\u001b[0;34m)\u001b[0m  \u001b[0;31m# pylint: disable=protected-access\u001b[0m\u001b[0;34m\u001b[0m\u001b[0;34m\u001b[0m\u001b[0m\n\u001b[0m\u001b[1;32m   2830\u001b[0m \u001b[0;34m\u001b[0m\u001b[0m\n\u001b[1;32m   2831\u001b[0m   \u001b[0;34m@\u001b[0m\u001b[0mproperty\u001b[0m\u001b[0;34m\u001b[0m\u001b[0;34m\u001b[0m\u001b[0m\n",
            "\u001b[0;32m/usr/local/lib/python3.6/dist-packages/tensorflow/python/eager/function.py\u001b[0m in \u001b[0;36m_filtered_call\u001b[0;34m(self, args, kwargs, cancellation_manager)\u001b[0m\n\u001b[1;32m   1846\u001b[0m                            resource_variable_ops.BaseResourceVariable))],\n\u001b[1;32m   1847\u001b[0m         \u001b[0mcaptured_inputs\u001b[0m\u001b[0;34m=\u001b[0m\u001b[0mself\u001b[0m\u001b[0;34m.\u001b[0m\u001b[0mcaptured_inputs\u001b[0m\u001b[0;34m,\u001b[0m\u001b[0;34m\u001b[0m\u001b[0;34m\u001b[0m\u001b[0m\n\u001b[0;32m-> 1848\u001b[0;31m         cancellation_manager=cancellation_manager)\n\u001b[0m\u001b[1;32m   1849\u001b[0m \u001b[0;34m\u001b[0m\u001b[0m\n\u001b[1;32m   1850\u001b[0m   \u001b[0;32mdef\u001b[0m \u001b[0m_call_flat\u001b[0m\u001b[0;34m(\u001b[0m\u001b[0mself\u001b[0m\u001b[0;34m,\u001b[0m \u001b[0margs\u001b[0m\u001b[0;34m,\u001b[0m \u001b[0mcaptured_inputs\u001b[0m\u001b[0;34m,\u001b[0m \u001b[0mcancellation_manager\u001b[0m\u001b[0;34m=\u001b[0m\u001b[0;32mNone\u001b[0m\u001b[0;34m)\u001b[0m\u001b[0;34m:\u001b[0m\u001b[0;34m\u001b[0m\u001b[0;34m\u001b[0m\u001b[0m\n",
            "\u001b[0;32m/usr/local/lib/python3.6/dist-packages/tensorflow/python/eager/function.py\u001b[0m in \u001b[0;36m_call_flat\u001b[0;34m(self, args, captured_inputs, cancellation_manager)\u001b[0m\n\u001b[1;32m   1922\u001b[0m       \u001b[0;31m# No tape is watching; skip to running the function.\u001b[0m\u001b[0;34m\u001b[0m\u001b[0;34m\u001b[0m\u001b[0;34m\u001b[0m\u001b[0m\n\u001b[1;32m   1923\u001b[0m       return self._build_call_outputs(self._inference_function.call(\n\u001b[0;32m-> 1924\u001b[0;31m           ctx, args, cancellation_manager=cancellation_manager))\n\u001b[0m\u001b[1;32m   1925\u001b[0m     forward_backward = self._select_forward_and_backward_functions(\n\u001b[1;32m   1926\u001b[0m         \u001b[0margs\u001b[0m\u001b[0;34m,\u001b[0m\u001b[0;34m\u001b[0m\u001b[0;34m\u001b[0m\u001b[0m\n",
            "\u001b[0;32m/usr/local/lib/python3.6/dist-packages/tensorflow/python/eager/function.py\u001b[0m in \u001b[0;36mcall\u001b[0;34m(self, ctx, args, cancellation_manager)\u001b[0m\n\u001b[1;32m    548\u001b[0m               \u001b[0minputs\u001b[0m\u001b[0;34m=\u001b[0m\u001b[0margs\u001b[0m\u001b[0;34m,\u001b[0m\u001b[0;34m\u001b[0m\u001b[0;34m\u001b[0m\u001b[0m\n\u001b[1;32m    549\u001b[0m               \u001b[0mattrs\u001b[0m\u001b[0;34m=\u001b[0m\u001b[0mattrs\u001b[0m\u001b[0;34m,\u001b[0m\u001b[0;34m\u001b[0m\u001b[0;34m\u001b[0m\u001b[0m\n\u001b[0;32m--> 550\u001b[0;31m               ctx=ctx)\n\u001b[0m\u001b[1;32m    551\u001b[0m         \u001b[0;32melse\u001b[0m\u001b[0;34m:\u001b[0m\u001b[0;34m\u001b[0m\u001b[0;34m\u001b[0m\u001b[0m\n\u001b[1;32m    552\u001b[0m           outputs = execute.execute_with_cancellation(\n",
            "\u001b[0;32m/usr/local/lib/python3.6/dist-packages/tensorflow/python/eager/execute.py\u001b[0m in \u001b[0;36mquick_execute\u001b[0;34m(op_name, num_outputs, inputs, attrs, ctx, name)\u001b[0m\n\u001b[1;32m     58\u001b[0m     \u001b[0mctx\u001b[0m\u001b[0;34m.\u001b[0m\u001b[0mensure_initialized\u001b[0m\u001b[0;34m(\u001b[0m\u001b[0;34m)\u001b[0m\u001b[0;34m\u001b[0m\u001b[0;34m\u001b[0m\u001b[0m\n\u001b[1;32m     59\u001b[0m     tensors = pywrap_tfe.TFE_Py_Execute(ctx._handle, device_name, op_name,\n\u001b[0;32m---> 60\u001b[0;31m                                         inputs, attrs, num_outputs)\n\u001b[0m\u001b[1;32m     61\u001b[0m   \u001b[0;32mexcept\u001b[0m \u001b[0mcore\u001b[0m\u001b[0;34m.\u001b[0m\u001b[0m_NotOkStatusException\u001b[0m \u001b[0;32mas\u001b[0m \u001b[0me\u001b[0m\u001b[0;34m:\u001b[0m\u001b[0;34m\u001b[0m\u001b[0;34m\u001b[0m\u001b[0m\n\u001b[1;32m     62\u001b[0m     \u001b[0;32mif\u001b[0m \u001b[0mname\u001b[0m \u001b[0;32mis\u001b[0m \u001b[0;32mnot\u001b[0m \u001b[0;32mNone\u001b[0m\u001b[0;34m:\u001b[0m\u001b[0;34m\u001b[0m\u001b[0;34m\u001b[0m\u001b[0m\n",
            "\u001b[0;31mKeyboardInterrupt\u001b[0m: "
          ]
        }
      ]
    }
  ]
}